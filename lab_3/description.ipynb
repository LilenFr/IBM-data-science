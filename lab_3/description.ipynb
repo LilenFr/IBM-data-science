{
 "cells": [
  {
   "cell_type": "markdown",
   "metadata": {},
   "source": [
    "## Análisis de los datos históricos de valores/ingresos y creación de un Dashboard"
   ]
  },
  {
   "cell_type": "markdown",
   "metadata": {},
   "source": [
    "En este laboratorio práctico es donde hice el proyecto final.<br>\n",
    "El trabajo fué aprobado con 12/12,
    "\n",
   ]
  }
 ],
 "metadata": {
  "kernelspec": {
   "display_name": "Python 3.8.10 ('venv': venv)",
   "language": "python",
   "name": "python3"
  },
  "language_info": {
   "name": "python",
   "version": "3.8.10"
  },
  "orig_nbformat": 4,
  "vscode": {
   "interpreter": {
    "hash": "04848ffcac50ac68049fdb03d1a86fb5a1917642ea0c6d773c60ca879cc4cadf"
   }
  }
 },
 "nbformat": 4,
 "nbformat_minor": 2
}
