{
 "cells": [
  {
   "cell_type": "markdown",
   "metadata": {},
   "source": [
    "## Extracción de datos con Web Scraping"
   ]
  },
  {
   "cell_type": "markdown",
   "metadata": {},
   "source": [
    "Primero completé el laboratorio de Introducción a Webscraping usando BeautifulSoup ('WebScraping_Review_Lab.ipynb') para comprender la extracción de datos de tablas HTML en Dataframes.\n",
    "\n",
    "No todos los datos necesarios para este proyecto están disponibles a través de una biblioteca. Por eso, en esta práctica de laboratorio, utilicé web scraping para obtener datos financieros. Extraje datos históricos de acciones de una página web utilizando BeautifulSoup.\n",
    "\n",
    "### Tabla de contenidos:<br>\n",
    "- Descargar la página web usando la librería Requests<br>\n",
    "- Parsear la página HTML con BeautifulSoup<br>\n",
    "- Extraer datos y crear DataFrame<br>\n",
    "- Ejercicios\n",
    "\n",
    "Para completar este laboratorio, utilicé JupyterLab ejecutándose en la nube en el entorno de Skills Network Labs.\n",
    "\n",
    "Una vez terminé el laboratorio, rendí un exámen para evluar los resultados del laboratorio, el cual aprobé."
   ]
  }
 ],
 "metadata": {
  "kernelspec": {
   "display_name": "Python 3.8.10 ('venv': venv)",
   "language": "python",
   "name": "python3"
  },
  "language_info": {
   "name": "python",
   "version": "3.8.10"
  },
  "orig_nbformat": 4,
  "vscode": {
   "interpreter": {
    "hash": "04848ffcac50ac68049fdb03d1a86fb5a1917642ea0c6d773c60ca879cc4cadf"
   }
  }
 },
 "nbformat": 4,
 "nbformat_minor": 2
}
