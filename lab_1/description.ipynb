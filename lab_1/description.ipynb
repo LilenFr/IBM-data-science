{
 "cells": [
  {
   "cell_type": "markdown",
   "metadata": {},
   "source": [
    "## Extracción de datos con Python"
   ]
  },
  {
   "cell_type": "markdown",
   "metadata": {},
   "source": [
    "\n",
    "En esta práctica de laboratorio, utilicé una biblioteca de Python para obtener <strong>datos financieros</strong>. Extraje datos históricos de acciones utilizando yfinance.\n",
    "\n",
    "Para completar este laboratorio, utilicé JupyterLab ejecutándose en la nube en el entorno de Skills Network Labs.\n",
    "\n",
    "### Tabla de contenidos:<br>\n",
    "- Usar yfinance para extraer información bursátil<br>\n",
    "- Usar yfinance para extraer datos históricos de precios de acciones<br>\n",
    "- Usar yfinance para extraer datos históricos de dividendos<br>\n",
    "- Ejercicios\n",
    "\n",
    "Una vez terminé el laboratorio, rendí un exámen para evluar los resultados del laboratorio, el cual aprobé."
   ]
  }
 ],
 "metadata": {
  "kernelspec": {
   "display_name": "Python 3.8.10 ('venv': venv)",
   "language": "python",
   "name": "python3"
  },
  "language_info": {
   "name": "python",
   "version": "3.8.10"
  },
  "orig_nbformat": 4,
  "vscode": {
   "interpreter": {
    "hash": "04848ffcac50ac68049fdb03d1a86fb5a1917642ea0c6d773c60ca879cc4cadf"
   }
  }
 },
 "nbformat": 4,
 "nbformat_minor": 2
}
